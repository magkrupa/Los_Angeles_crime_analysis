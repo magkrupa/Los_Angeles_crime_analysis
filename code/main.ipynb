{
 "cells": [
  {
   "cell_type": "markdown",
   "metadata": {},
   "source": [
    "# Data analysis to Identify the patterns in Los Angeles crime data"
   ]
  },
  {
   "cell_type": "markdown",
   "metadata": {},
   "source": [
    "## Importing libraries:"
   ]
  },
  {
   "cell_type": "code",
   "execution_count": 5,
   "metadata": {},
   "outputs": [
    {
     "name": "stdout",
     "output_type": "stream",
     "text": [
      "Collecting plotly\n",
      "  Downloading plotly-5.15.0-py2.py3-none-any.whl (15.5 MB)\n",
      "                                              0.0/15.5 MB ? eta -:--:--\n",
      "                                              0.1/15.5 MB 4.3 MB/s eta 0:00:04\n",
      "     --                                       0.9/15.5 MB 11.6 MB/s eta 0:00:02\n",
      "     --------                                 3.4/15.5 MB 27.0 MB/s eta 0:00:01\n",
      "     -----------------                        7.0/15.5 MB 40.5 MB/s eta 0:00:01\n",
      "     -------------------                      7.5/15.5 MB 37.1 MB/s eta 0:00:01\n",
      "     ---------------------                    8.4/15.5 MB 31.6 MB/s eta 0:00:01\n",
      "     ------------------------                 9.5/15.5 MB 30.5 MB/s eta 0:00:01\n",
      "     ---------------------------             10.9/15.5 MB 34.4 MB/s eta 0:00:01\n",
      "     --------------------------------        12.9/15.5 MB 38.5 MB/s eta 0:00:01\n",
      "     -------------------------------------   14.8/15.5 MB 34.4 MB/s eta 0:00:01\n",
      "     --------------------------------------  15.5/15.5 MB 31.1 MB/s eta 0:00:01\n",
      "     --------------------------------------- 15.5/15.5 MB 27.3 MB/s eta 0:00:00\n",
      "Collecting tenacity>=6.2.0 (from plotly)\n",
      "  Downloading tenacity-8.2.2-py3-none-any.whl (24 kB)\n",
      "Requirement already satisfied: packaging in c:\\users\\magda\\appdata\\roaming\\python\\python311\\site-packages (from plotly) (23.1)\n",
      "Installing collected packages: tenacity, plotly\n",
      "Successfully installed plotly-5.15.0 tenacity-8.2.2\n"
     ]
    },
    {
     "name": "stderr",
     "output_type": "stream",
     "text": [
      "\n",
      "[notice] A new release of pip is available: 23.1.2 -> 23.2.1\n",
      "[notice] To update, run: python.exe -m pip install --upgrade pip\n"
     ]
    }
   ],
   "source": [
    "!pip install plotly"
   ]
  },
  {
   "cell_type": "code",
   "execution_count": 7,
   "metadata": {},
   "outputs": [],
   "source": [
    "# data processing\n",
    "import pandas as pd\n",
    "import numpy as np\n",
    "from datetime import datetime\n",
    "from scipy.stats import pearsonr, linregress\n",
    "\n",
    "# data visualisations\n",
    "import seaborn as sns\n",
    "import matplotlib.pyplot as plt\n",
    "import folium\n",
    "import plotly.express as px\n",
    "import plotly.graph_objects as go\n",
    "from branca.element import Template, MacroElement\n",
    "import plotly.offline as pyo\n",
    "\n",
    "# to interact with operating system to save files\n",
    "import os\n",
    "from os.path import dirname\n",
    "\n",
    "#ignore warnings\n",
    "import warnings\n",
    "# warnings.filterwarnings(\"ignore\")"
   ]
  },
  {
   "cell_type": "markdown",
   "metadata": {},
   "source": [
    "## Importing Cleaned Datasets"
   ]
  },
  {
   "cell_type": "code",
   "execution_count": 12,
   "metadata": {},
   "outputs": [],
   "source": [
    "df = pd.read_csv('../data/cleaned_df.csv')"
   ]
  },
  {
   "cell_type": "code",
   "execution_count": 13,
   "metadata": {},
   "outputs": [
    {
     "data": {
      "text/plain": [
       "(752911, 35)"
      ]
     },
     "execution_count": 13,
     "metadata": {},
     "output_type": "execute_result"
    }
   ],
   "source": [
    "df.shape"
   ]
  },
  {
   "cell_type": "code",
   "execution_count": 14,
   "metadata": {},
   "outputs": [
    {
     "name": "stdout",
     "output_type": "stream",
     "text": [
      "<class 'pandas.core.frame.DataFrame'>\n",
      "RangeIndex: 752911 entries, 0 to 752910\n",
      "Data columns (total 35 columns):\n",
      " #   Column                Non-Null Count   Dtype  \n",
      "---  ------                --------------   -----  \n",
      " 0   dr_no                 752911 non-null  int64  \n",
      " 1   reported_date         752911 non-null  object \n",
      " 2   crime_date            752911 non-null  object \n",
      " 3   crime_time            752911 non-null  int64  \n",
      " 4   area_numerically      752911 non-null  int64  \n",
      " 5   area_name             752911 non-null  object \n",
      " 6   district              752911 non-null  int64  \n",
      " 7   part 1-2              752911 non-null  int64  \n",
      " 8   crime_code            752911 non-null  int64  \n",
      " 9   crime_code.1          752911 non-null  object \n",
      " 10  victim_age            752911 non-null  int64  \n",
      " 11  victim_gender         752911 non-null  object \n",
      " 12  victim_decscent       752911 non-null  object \n",
      " 13  premis_code           752902 non-null  float64\n",
      " 14  premis_description    752476 non-null  object \n",
      " 15  weapon_code           261472 non-null  float64\n",
      " 16  weapon_description    261472 non-null  object \n",
      " 17  status                752911 non-null  object \n",
      " 18  status_description    752911 non-null  object \n",
      " 19  crime_code_1          752901 non-null  float64\n",
      " 20  crime_code_2          752911 non-null  float64\n",
      " 21  location              752911 non-null  object \n",
      " 22  cross_street          752911 non-null  object \n",
      " 23  latitude              752911 non-null  float64\n",
      " 24  longitude             752911 non-null  float64\n",
      " 25  reported_day_of_week  752911 non-null  object \n",
      " 26  crime_day_of_week     752911 non-null  object \n",
      " 27  reported_day_day      752911 non-null  int64  \n",
      " 28  reported_day_month    752911 non-null  int64  \n",
      " 29  reported_day_year     752911 non-null  int64  \n",
      " 30  crime_day_day         752911 non-null  int64  \n",
      " 31  crime_day_month       752911 non-null  int64  \n",
      " 32  crime_day_year        752911 non-null  int64  \n",
      " 33  date_diff             752911 non-null  object \n",
      " 34  crime_newtime         752911 non-null  object \n",
      "dtypes: float64(6), int64(13), object(16)\n",
      "memory usage: 201.0+ MB\n"
     ]
    }
   ],
   "source": [
    "df.info()"
   ]
  },
  {
   "cell_type": "markdown",
   "metadata": {},
   "source": [
    "## Exploratory Data Analysis\n",
    "1. \n",
    "2. \n",
    "3. \n",
    "4. "
   ]
  },
  {
   "cell_type": "code",
   "execution_count": null,
   "metadata": {},
   "outputs": [],
   "source": []
  },
  {
   "cell_type": "code",
   "execution_count": null,
   "metadata": {},
   "outputs": [],
   "source": []
  },
  {
   "cell_type": "code",
   "execution_count": null,
   "metadata": {},
   "outputs": [],
   "source": []
  }
 ],
 "metadata": {
  "kernelspec": {
   "display_name": "Python 3",
   "language": "python",
   "name": "python3"
  },
  "language_info": {
   "codemirror_mode": {
    "name": "ipython",
    "version": 3
   },
   "file_extension": ".py",
   "mimetype": "text/x-python",
   "name": "python",
   "nbconvert_exporter": "python",
   "pygments_lexer": "ipython3",
   "version": "3.11.4"
  },
  "orig_nbformat": 4
 },
 "nbformat": 4,
 "nbformat_minor": 2
}
